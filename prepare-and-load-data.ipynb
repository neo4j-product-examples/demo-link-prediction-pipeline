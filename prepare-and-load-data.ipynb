{
 "cells": [
  {
   "cell_type": "code",
   "execution_count": 4,
   "outputs": [],
   "source": [
    "import pandas as pd\n",
    "import numpy as np\n",
    "from itertools import accumulate\n",
    "from graphdatascience import GraphDataScience\n",
    "pd.options.display.width = 0\n",
    "pd.set_option('display.max_columns', None)\n",
    "pd.set_option('display.max_rows', 100)\n",
    "pd.set_option('max_colwidth', 1000)"
   ],
   "metadata": {
    "collapsed": false,
    "pycharm": {
     "name": "#%%\n"
    }
   }
  },
  {
   "cell_type": "markdown",
   "source": [
    "# Prepare and Load Data\n",
    "In this notebook we subsample, format and load data into Neo4j.  Our source will be the training dataset used in the [CIKM Cross-Device Entity Linking Challenge](https://competitions.codalab.org/competitions/11171). The raw dataset can be found [here](https://drive.google.com/file/d/0B7XZSACQf0Kdc3BnZzdEZzR6X0k/view?usp=sharing&resourcekey=0-KcizLV8DrV0jw_VLPNLvxQ). Before proceeding with the below, download the data, unzip and place in the `SOURCE_DATA_PATH` on the local machine."
   ],
   "metadata": {
    "collapsed": false
   }
  },
  {
   "cell_type": "markdown",
   "source": [
    "## Directories and URL Settings\n",
    "- `SOURCE_DATA_PATH` sets the data path on your machine where the source data is located.\n",
    "- `NEO4J_IMPORT_DIR` sets the the location to write formatted csvs to\n",
    "- `NEO4j_IMPORT_URL` sets the URL for Neo4j to use during loading.\n",
    "\n",
    "- For __on-prem installations__ File locations for each OS are listed in the [Neo4j Operations Manual](https://neo4j.com/docs/operations-manual/current/configuration/file-locations). We recommend putting files in Neo4j’s `import` directory, as it keeps the environment secure. When you do this, you can use 'file://' for `NEO4j_IMPORT_URL`. If, however, you need to access files in other locations, you can adjust configurations for this per directions in our [documentation](https://neo4j.com/docs/cypher-manual/current/clauses/load-csv/#query-load-csv-introduction).\n",
    "- For __AuraDS__ you can load csvs from FTP, HTTP, or HTTPS servers. You would adjust this script to write to to specified location and update `NEO4j_IMPORT_URL` accordingly.\n",
    "\n",
    "The below example is for on-prem, specifically Neo4j desktop, but can be adjusted for other Neo4j deployments.\n",
    "\n",
    "While you can load data via the Python driver, loading data from formatted csvs file with `LOAD CSV` will be significantly faster.\n"
   ],
   "metadata": {
    "collapsed": false,
    "pycharm": {
     "name": "#%% md\n"
    }
   }
  },
  {
   "cell_type": "code",
   "execution_count": 5,
   "outputs": [],
   "source": [
    "SOURCE_DATA_PATH = './data'\n",
    "NEO4J_IMPORT_DIR = '/Users/zachblumenfeld/Library/Application Support/Neo4j Desktop/Application/relate-data/' + \\\n",
    "                   'dbmss/dbms-2a54a0cf-88ac-43b5-9a2b-9bbb82c8c75a/import'\n",
    "NEO4j_IMPORT_URL = 'file://'"
   ],
   "metadata": {
    "collapsed": false,
    "pycharm": {
     "name": "#%%\n"
    }
   }
  },
  {
   "cell_type": "markdown",
   "source": [
    "## Prepare Data\n",
    "To prepare the data, we subsample it based on the `SAMPLE_RATE` defined below and transforms it into five input data sets.\n",
    "\n",
    "1. __(Users)__: Nodes Representing Users\n",
    "\n",
    "\n",
    "2. __(Users)-\\[SAME_AS\\]->(Users)__: Relationships representing labeled Entity-Linkage/Alignments between Users.  Will be used for supervised link prediction.\n",
    "\n",
    "\n",
    "3. __(Websites)__: Nodes representing websites. Each URL path from the input dataset will be decomposed into multiple websites to represent the path hierarchy. The depth to consider for the hierarchy is set by the `MAX_URL_SEGMENTS` variable below. Each URL will be split into `MAX_URL_SEGMENTS + 1` website nodes where `MAX_URL_SEGMENTS` website nodes will be used for the hierarchy and the last website node will correspond to the the full url path.  For example, if `MAX_URL_SEGMENTS=3`, then the URL `a/b/c/d/e` will become 4 website nodes identified by the urls `[a, a/b, a/b/c, a/b/c/d/e]` while the website `aa/bb/cc` will become `[aa, aa/bb, aa/bb/cc, aa/bb/cc]`. The website nodes will be deduplicated so each unique url in the hierarchy is only represented by a singe node in the graph. This is done because the full url paths are fairly unique and provide only sparse connectivity between users.  Splitting urls in this way allows us to draw meaningful relationships from which we can engineer features for link prediction.\n",
    "\n",
    "\n",
    "4. __(User)-\\[VISITED\\]->(Website)__: Relationships representing users interacting with websites. The relationships will be weighted by number of visits.\n",
    "\n",
    "\n",
    "5. __(Website)-\\[CHILD_OF\\]->(Website)__: Relationships representing hierarchical structure of websites. i.e. if the URL `a/b/c/d` is split into `[a, a/b, a/b/c, a/b/c/d]` per above rules, then there would be a `CHILD_OF` relationship going from `a/b/c/d -> a/b/c`, `a/b/c -> a/b`, and `a/b -> a`.  This allows for a much more well connected graph.\n",
    "\n",
    "A larger subsample or the complete dataset can be used. Just keep in mind that the larger the dataset, the more memory will be needed for GDS."
   ],
   "metadata": {
    "collapsed": false,
    "pycharm": {
     "name": "#%% md\n"
    }
   }
  },
  {
   "cell_type": "markdown",
   "source": [
    "### Parameters for Sampling and Transformation"
   ],
   "metadata": {
    "collapsed": false,
    "pycharm": {
     "name": "#%% md\n"
    }
   }
  },
  {
   "cell_type": "code",
   "execution_count": 6,
   "outputs": [],
   "source": [
    "# The rate between(0,1) to sample User Ids from facts.json.\n",
    "# Recommend using <=0.1 for quick experimentation\n",
    "SAMPLE_RATE = 0.1\n",
    "\n",
    "# Whether to sample only pairs of nodes that are aligned in the training set.\n",
    "# This will bias the graph to a higher true class ratio if set to True\n",
    "ONLY_SAMPLE_ALIGNED_PAIRS = False\n",
    "\n",
    "# The number of URL segments to consider for the URLs\n",
    "MAX_URL_SEGMENTS = 5\n",
    "\n",
    "# The Random Seed to use throughout\n",
    "RANDOM_SEED = 7474"
   ],
   "metadata": {
    "collapsed": false,
    "pycharm": {
     "name": "#%%\n"
    }
   }
  },
  {
   "cell_type": "markdown",
   "source": [
    "### Format Facts (a.k.a Logged Events)\n",
    "\n",
    "We load facts.json to sample from it and shape a unique __userid->eventid__ data frame.\n",
    "The size of the data set may limit the ability to load it all at once depending on your environment so the below example iterates over the json file in chunks.  Feel free to tune the paramters so it is optimized for your machine."
   ],
   "metadata": {
    "collapsed": false,
    "pycharm": {
     "name": "#%% md\n"
    }
   }
  },
  {
   "cell_type": "code",
   "execution_count": 7,
   "outputs": [],
   "source": [
    "#helper functions\n",
    "def extract_values_from_facts(row):\n",
    "    return row.facts['fid'], row.facts['ts']\n",
    "\n",
    "def format_facts(raw_df):\n",
    "    df = raw_df.explode(\"facts\")\n",
    "    df[['fid','ts']] = df.apply(lambda row: extract_values_from_facts(row), axis=1, result_type ='expand')\n",
    "    #df.drop(columns = [\"facts\"], inplace=True)\n",
    "    return df"
   ],
   "metadata": {
    "collapsed": false,
    "pycharm": {
     "name": "#%%\n"
    }
   }
  },
  {
   "cell_type": "code",
   "execution_count": 10,
   "outputs": [],
   "source": [
    "# Labeled Entity-Linkages/Alignments\n",
    "raw_train_df = pd.read_csv(f'{SOURCE_DATA_PATH}/data-train-dca/train.csv', header=0, names=['uid1', 'uid2'])"
   ],
   "metadata": {
    "collapsed": false,
    "pycharm": {
     "name": "#%%\n"
    }
   }
  },
  {
   "cell_type": "code",
   "execution_count": 11,
   "outputs": [],
   "source": [
    "#iterative sampling of facts.json\n",
    "n = 0\n",
    "facts_dfs = []\n",
    "chunk_size = 5000\n",
    "if ONLY_SAMPLE_ALIGNED_PAIRS:\n",
    "    sample_train_df = raw_train_df.sample(frac=SAMPLE_RATE, random_state = RANDOM_SEED)\n",
    "    unique_aligned_uids = pd.concat([sample_train_df.uid1, sample_train_df.uid2], ignore_index=True) \\\n",
    "        .drop_duplicates().tolist()\n",
    "    with pd.read_json(f'{SOURCE_DATA_PATH}/data-train-dca/facts.json', lines=True, chunksize=chunk_size) as reader:\n",
    "        for chunk_df in reader:\n",
    "            is_aligned_indicator = chunk_df.uid.isin(unique_aligned_uids)\n",
    "            # join on alignments present, sub-sample, and format\n",
    "            facts_dfs.append(format_facts(chunk_df[is_aligned_indicator]))\n",
    "            #print progress\n",
    "            n = n + chunk_size\n",
    "            # print(n)\n",
    "else:\n",
    "    unique_aligned_uids = pd.concat([raw_train_df.uid1, raw_train_df.uid2], ignore_index=True) \\\n",
    "        .drop_duplicates().tolist()\n",
    "    with pd.read_json(f'{SOURCE_DATA_PATH}/data-train-dca/facts.json', lines=True, chunksize=chunk_size) as reader:\n",
    "        for chunk_df in reader:\n",
    "            is_aligned_indicator = chunk_df.uid.isin(unique_aligned_uids)\n",
    "            # join on alignments present, sub-sample, and format\n",
    "            chunk_df_aligned = chunk_df[is_aligned_indicator].sample(frac=SAMPLE_RATE, random_state = RANDOM_SEED)\n",
    "            facts_dfs.append(format_facts(chunk_df_aligned ))\n",
    "            # anti-join on alignments present\n",
    "            chunk_df_not_aligned = chunk_df[~is_aligned_indicator].sample(frac=SAMPLE_RATE, random_state = RANDOM_SEED)\n",
    "            facts_dfs.append(format_facts(chunk_df_not_aligned ))\n",
    "            #print progress\n",
    "            n = n + chunk_size\n",
    "            # print(n)"
   ],
   "metadata": {
    "collapsed": false,
    "pycharm": {
     "name": "#%%\n"
    }
   }
  },
  {
   "cell_type": "code",
   "execution_count": 12,
   "outputs": [
    {
     "data": {
      "text/plain": "(6739095, 4)"
     },
     "execution_count": 12,
     "metadata": {},
     "output_type": "execute_result"
    }
   ],
   "source": [
    "facts_df = pd.concat(facts_dfs, ignore_index=True)\n",
    "facts_df.shape"
   ],
   "metadata": {
    "collapsed": false,
    "pycharm": {
     "name": "#%%\n"
    }
   }
  },
  {
   "cell_type": "code",
   "execution_count": 13,
   "outputs": [
    {
     "data": {
      "text/plain": "                                          facts  \\\n0         {'fid': 6135636, 'ts': 1464201356667}   \n1         {'fid': 6135636, 'ts': 1464201326667}   \n2        {'fid': 10225497, 'ts': 1464193434239}   \n3         {'fid': 2036842, 'ts': 1464192577609}   \n4        {'fid': 12576917, 'ts': 1464192568454}   \n...                                         ...   \n6739090   {'fid': 6570813, 'ts': 1465828799392}   \n6739091  {'fid': 12854313, 'ts': 1465828788160}   \n6739092   {'fid': 6056513, 'ts': 1465828469495}   \n6739093   {'fid': 3335637, 'ts': 1465828089349}   \n6739094   {'fid': 8799201, 'ts': 1465828084110}   \n\n                                      uid       fid             ts  \n0        8478e6a4211f9cc38608ce07375ab587   6135636  1464201356667  \n1        8478e6a4211f9cc38608ce07375ab587   6135636  1464201326667  \n2        8478e6a4211f9cc38608ce07375ab587  10225497  1464193434239  \n3        8478e6a4211f9cc38608ce07375ab587   2036842  1464192577609  \n4        8478e6a4211f9cc38608ce07375ab587  12576917  1464192568454  \n...                                   ...       ...            ...  \n6739090  14e6a05f05a4226b99fb86e0bc50dfad   6570813  1465828799392  \n6739091  14e6a05f05a4226b99fb86e0bc50dfad  12854313  1465828788160  \n6739092  14e6a05f05a4226b99fb86e0bc50dfad   6056513  1465828469495  \n6739093  14e6a05f05a4226b99fb86e0bc50dfad   3335637  1465828089349  \n6739094  14e6a05f05a4226b99fb86e0bc50dfad   8799201  1465828084110  \n\n[6739095 rows x 4 columns]",
      "text/html": "<div>\n<style scoped>\n    .dataframe tbody tr th:only-of-type {\n        vertical-align: middle;\n    }\n\n    .dataframe tbody tr th {\n        vertical-align: top;\n    }\n\n    .dataframe thead th {\n        text-align: right;\n    }\n</style>\n<table border=\"1\" class=\"dataframe\">\n  <thead>\n    <tr style=\"text-align: right;\">\n      <th></th>\n      <th>facts</th>\n      <th>uid</th>\n      <th>fid</th>\n      <th>ts</th>\n    </tr>\n  </thead>\n  <tbody>\n    <tr>\n      <th>0</th>\n      <td>{'fid': 6135636, 'ts': 1464201356667}</td>\n      <td>8478e6a4211f9cc38608ce07375ab587</td>\n      <td>6135636</td>\n      <td>1464201356667</td>\n    </tr>\n    <tr>\n      <th>1</th>\n      <td>{'fid': 6135636, 'ts': 1464201326667}</td>\n      <td>8478e6a4211f9cc38608ce07375ab587</td>\n      <td>6135636</td>\n      <td>1464201326667</td>\n    </tr>\n    <tr>\n      <th>2</th>\n      <td>{'fid': 10225497, 'ts': 1464193434239}</td>\n      <td>8478e6a4211f9cc38608ce07375ab587</td>\n      <td>10225497</td>\n      <td>1464193434239</td>\n    </tr>\n    <tr>\n      <th>3</th>\n      <td>{'fid': 2036842, 'ts': 1464192577609}</td>\n      <td>8478e6a4211f9cc38608ce07375ab587</td>\n      <td>2036842</td>\n      <td>1464192577609</td>\n    </tr>\n    <tr>\n      <th>4</th>\n      <td>{'fid': 12576917, 'ts': 1464192568454}</td>\n      <td>8478e6a4211f9cc38608ce07375ab587</td>\n      <td>12576917</td>\n      <td>1464192568454</td>\n    </tr>\n    <tr>\n      <th>...</th>\n      <td>...</td>\n      <td>...</td>\n      <td>...</td>\n      <td>...</td>\n    </tr>\n    <tr>\n      <th>6739090</th>\n      <td>{'fid': 6570813, 'ts': 1465828799392}</td>\n      <td>14e6a05f05a4226b99fb86e0bc50dfad</td>\n      <td>6570813</td>\n      <td>1465828799392</td>\n    </tr>\n    <tr>\n      <th>6739091</th>\n      <td>{'fid': 12854313, 'ts': 1465828788160}</td>\n      <td>14e6a05f05a4226b99fb86e0bc50dfad</td>\n      <td>12854313</td>\n      <td>1465828788160</td>\n    </tr>\n    <tr>\n      <th>6739092</th>\n      <td>{'fid': 6056513, 'ts': 1465828469495}</td>\n      <td>14e6a05f05a4226b99fb86e0bc50dfad</td>\n      <td>6056513</td>\n      <td>1465828469495</td>\n    </tr>\n    <tr>\n      <th>6739093</th>\n      <td>{'fid': 3335637, 'ts': 1465828089349}</td>\n      <td>14e6a05f05a4226b99fb86e0bc50dfad</td>\n      <td>3335637</td>\n      <td>1465828089349</td>\n    </tr>\n    <tr>\n      <th>6739094</th>\n      <td>{'fid': 8799201, 'ts': 1465828084110}</td>\n      <td>14e6a05f05a4226b99fb86e0bc50dfad</td>\n      <td>8799201</td>\n      <td>1465828084110</td>\n    </tr>\n  </tbody>\n</table>\n<p>6739095 rows × 4 columns</p>\n</div>"
     },
     "execution_count": 13,
     "metadata": {},
     "output_type": "execute_result"
    }
   ],
   "source": [
    "clean_facts_df = facts_df.drop_duplicates(subset = [\"uid\", \"fid\", \"ts\"])\n",
    "clean_facts_df"
   ],
   "metadata": {
    "collapsed": false,
    "pycharm": {
     "name": "#%%\n"
    }
   }
  },
  {
   "cell_type": "markdown",
   "source": [
    "### Subsample Training Alignments based on Facts Subsampling"
   ],
   "metadata": {
    "collapsed": false,
    "pycharm": {
     "name": "#%% md\n"
    }
   }
  },
  {
   "cell_type": "code",
   "execution_count": 15,
   "outputs": [],
   "source": [
    "unique_uid_df = clean_facts_df.uid.drop_duplicates().to_frame(name=\"uid\")\n",
    "## merge on both alignment columns\n",
    "alignment_df = raw_train_df.merge(unique_uid_df, left_on=\"uid1\", right_on=\"uid\") \\\n",
    "    .merge(unique_uid_df, left_on=\"uid2\", right_on=\"uid\")"
   ],
   "metadata": {
    "collapsed": false,
    "pycharm": {
     "name": "#%%\n"
    }
   }
  },
  {
   "cell_type": "markdown",
   "source": [
    "### Join URLS to Capture Site Visits"
   ],
   "metadata": {
    "collapsed": false,
    "pycharm": {
     "name": "#%% md\n"
    }
   }
  },
  {
   "cell_type": "code",
   "execution_count": 16,
   "outputs": [],
   "source": [
    "urls_df = pd.read_csv(f'{SOURCE_DATA_PATH}/data-train-dca/urls.csv', header=0, names=['fid', 'url'])\n",
    "#urls_df"
   ],
   "metadata": {
    "collapsed": false,
    "pycharm": {
     "name": "#%%\n"
    }
   }
  },
  {
   "cell_type": "code",
   "execution_count": 17,
   "outputs": [
    {
     "name": "stdout",
     "output_type": "stream",
     "text": [
      "0\n",
      "0\n"
     ]
    }
   ],
   "source": [
    "# Note that neither fid nor url have duplicate values\n",
    "print(urls_df.fid.duplicated().sum())\n",
    "print(urls_df.url.duplicated().sum())"
   ],
   "metadata": {
    "collapsed": false,
    "pycharm": {
     "name": "#%%\n"
    }
   }
  },
  {
   "cell_type": "code",
   "execution_count": 18,
   "outputs": [],
   "source": [
    "# merge facts and url visits on fid.\n",
    "user_web_df = clean_facts_df.merge(urls_df, on=\"fid\")"
   ],
   "metadata": {
    "collapsed": false,
    "pycharm": {
     "name": "#%%\n"
    }
   }
  },
  {
   "cell_type": "code",
   "execution_count": 19,
   "outputs": [],
   "source": [
    "# split the urls out by path segments so there are separate columns for the path hierarchy\n",
    "def agg_path(s1, s2):\n",
    "    return s1 + '/' + s2\n",
    "\n",
    "def url_parse(url):\n",
    "    query_pos = url.find('?')\n",
    "    if query_pos != -1:\n",
    "        url = url[0:query_pos]\n",
    "    url_path = url.split('/')\n",
    "\n",
    "    url_path_length = len(url_path)\n",
    "\n",
    "    if url_path_length>=MAX_URL_SEGMENTS:\n",
    "        url_agg_paths = list(accumulate(url_path[0:MAX_URL_SEGMENTS], agg_path))\n",
    "    else:\n",
    "        url_agg_paths_staging = list(accumulate(url_path[0:url_path_length], agg_path))\n",
    "        url_agg_paths = url_agg_paths_staging + [url_agg_paths_staging[-1]] * (MAX_URL_SEGMENTS - url_path_length)\n",
    "\n",
    "    return  url_agg_paths + [url_path_length]\n",
    "\n",
    "url_segment_names = [\"url_segment_\" + str(x) for x in np.arange(0, MAX_URL_SEGMENTS, 1)]\n",
    "url_new_column_names = url_segment_names + [\"url_path_depth\"]"
   ],
   "metadata": {
    "collapsed": false,
    "pycharm": {
     "name": "#%%\n"
    }
   }
  },
  {
   "cell_type": "code",
   "execution_count": 20,
   "outputs": [
    {
     "data": {
      "text/plain": "                                          facts  \\\n0         {'fid': 6135636, 'ts': 1464201356667}   \n1         {'fid': 6135636, 'ts': 1464201326667}   \n2        {'fid': 10225497, 'ts': 1464193434239}   \n3         {'fid': 2036842, 'ts': 1464192577609}   \n4         {'fid': 2036842, 'ts': 1465538647609}   \n...                                         ...   \n6739090  {'fid': 12914313, 'ts': 1465828854927}   \n6739091  {'fid': 13683932, 'ts': 1465828848893}   \n6739092  {'fid': 12854313, 'ts': 1465828788160}   \n6739093   {'fid': 6056513, 'ts': 1465828469495}   \n6739094   {'fid': 3335637, 'ts': 1465828089349}   \n\n                                      uid       fid             ts  \\\n0        8478e6a4211f9cc38608ce07375ab587   6135636  1464201356667   \n1        8478e6a4211f9cc38608ce07375ab587   6135636  1464201326667   \n2        8478e6a4211f9cc38608ce07375ab587  10225497  1464193434239   \n3        8478e6a4211f9cc38608ce07375ab587   2036842  1464192577609   \n4        ff470caf31d1322878f5bab93fe87008   2036842  1465538647609   \n...                                   ...       ...            ...   \n6739090  14e6a05f05a4226b99fb86e0bc50dfad  12914313  1465828854927   \n6739091  14e6a05f05a4226b99fb86e0bc50dfad  13683932  1465828848893   \n6739092  14e6a05f05a4226b99fb86e0bc50dfad  12854313  1465828788160   \n6739093  14e6a05f05a4226b99fb86e0bc50dfad   6056513  1465828469495   \n6739094  14e6a05f05a4226b99fb86e0bc50dfad   3335637  1465828089349   \n\n                                                                                                           url  \\\n0                                          d33de24430bf4005/7de2f069da3a3655/6a30a933225c3548/a9da5e44f08b302e   \n1                                          d33de24430bf4005/7de2f069da3a3655/6a30a933225c3548/a9da5e44f08b302e   \n2                          8992698f779504dd/64dde630ecabd85/d13353338202e7d2/879271064ca0b858/c763353373b99001   \n3                                                           0e88b67f68cd2787/537df06f127af450/3acb09862ed13756   \n4                                                           0e88b67f68cd2787/537df06f127af450/3acb09862ed13756   \n...                                                                                                        ...   \n6739090                                    ed95a9a5be30e4c8/d400c9e183de73f3/761fabc659e8b0ea/3b329b665c0bbe1d   \n6739091                                    ed95a9a5be30e4c8/d400c9e183de73f3/761fabc659e8b0ea/b925e91110fa7167   \n6739092  ed95a9a5be30e4c8/d400c9e183de73f3/761fabc659e8b0ea/da0730aa0b149bd0/ee44da7e5dd2b3cc?32888c1b78217f8d   \n6739093                     f3185e90acedd8c/6948a094778c660/fb6015ae52a94e92/2ba3d4bb006f0afd/e24ac23d52ec7bcc   \n6739094                                      34078dbadf21da6/7d666c75e3d3a27/e1568a7733a61b12/640ae06baa4066db   \n\n            url_segment_0                      url_segment_1  \\\n0        d33de24430bf4005  d33de24430bf4005/7de2f069da3a3655   \n1        d33de24430bf4005  d33de24430bf4005/7de2f069da3a3655   \n2        8992698f779504dd   8992698f779504dd/64dde630ecabd85   \n3        0e88b67f68cd2787  0e88b67f68cd2787/537df06f127af450   \n4        0e88b67f68cd2787  0e88b67f68cd2787/537df06f127af450   \n...                   ...                                ...   \n6739090  ed95a9a5be30e4c8  ed95a9a5be30e4c8/d400c9e183de73f3   \n6739091  ed95a9a5be30e4c8  ed95a9a5be30e4c8/d400c9e183de73f3   \n6739092  ed95a9a5be30e4c8  ed95a9a5be30e4c8/d400c9e183de73f3   \n6739093   f3185e90acedd8c    f3185e90acedd8c/6948a094778c660   \n6739094   34078dbadf21da6    34078dbadf21da6/7d666c75e3d3a27   \n\n                                              url_segment_2  \\\n0        d33de24430bf4005/7de2f069da3a3655/6a30a933225c3548   \n1        d33de24430bf4005/7de2f069da3a3655/6a30a933225c3548   \n2         8992698f779504dd/64dde630ecabd85/d13353338202e7d2   \n3        0e88b67f68cd2787/537df06f127af450/3acb09862ed13756   \n4        0e88b67f68cd2787/537df06f127af450/3acb09862ed13756   \n...                                                     ...   \n6739090  ed95a9a5be30e4c8/d400c9e183de73f3/761fabc659e8b0ea   \n6739091  ed95a9a5be30e4c8/d400c9e183de73f3/761fabc659e8b0ea   \n6739092  ed95a9a5be30e4c8/d400c9e183de73f3/761fabc659e8b0ea   \n6739093    f3185e90acedd8c/6948a094778c660/fb6015ae52a94e92   \n6739094    34078dbadf21da6/7d666c75e3d3a27/e1568a7733a61b12   \n\n                                                               url_segment_3  \\\n0        d33de24430bf4005/7de2f069da3a3655/6a30a933225c3548/a9da5e44f08b302e   \n1        d33de24430bf4005/7de2f069da3a3655/6a30a933225c3548/a9da5e44f08b302e   \n2         8992698f779504dd/64dde630ecabd85/d13353338202e7d2/879271064ca0b858   \n3                         0e88b67f68cd2787/537df06f127af450/3acb09862ed13756   \n4                         0e88b67f68cd2787/537df06f127af450/3acb09862ed13756   \n...                                                                      ...   \n6739090  ed95a9a5be30e4c8/d400c9e183de73f3/761fabc659e8b0ea/3b329b665c0bbe1d   \n6739091  ed95a9a5be30e4c8/d400c9e183de73f3/761fabc659e8b0ea/b925e91110fa7167   \n6739092  ed95a9a5be30e4c8/d400c9e183de73f3/761fabc659e8b0ea/da0730aa0b149bd0   \n6739093    f3185e90acedd8c/6948a094778c660/fb6015ae52a94e92/2ba3d4bb006f0afd   \n6739094    34078dbadf21da6/7d666c75e3d3a27/e1568a7733a61b12/640ae06baa4066db   \n\n                                                                                url_segment_4  \\\n0                         d33de24430bf4005/7de2f069da3a3655/6a30a933225c3548/a9da5e44f08b302e   \n1                         d33de24430bf4005/7de2f069da3a3655/6a30a933225c3548/a9da5e44f08b302e   \n2         8992698f779504dd/64dde630ecabd85/d13353338202e7d2/879271064ca0b858/c763353373b99001   \n3                                          0e88b67f68cd2787/537df06f127af450/3acb09862ed13756   \n4                                          0e88b67f68cd2787/537df06f127af450/3acb09862ed13756   \n...                                                                                       ...   \n6739090                   ed95a9a5be30e4c8/d400c9e183de73f3/761fabc659e8b0ea/3b329b665c0bbe1d   \n6739091                   ed95a9a5be30e4c8/d400c9e183de73f3/761fabc659e8b0ea/b925e91110fa7167   \n6739092  ed95a9a5be30e4c8/d400c9e183de73f3/761fabc659e8b0ea/da0730aa0b149bd0/ee44da7e5dd2b3cc   \n6739093    f3185e90acedd8c/6948a094778c660/fb6015ae52a94e92/2ba3d4bb006f0afd/e24ac23d52ec7bcc   \n6739094                     34078dbadf21da6/7d666c75e3d3a27/e1568a7733a61b12/640ae06baa4066db   \n\n         url_path_depth  \n0                     4  \n1                     4  \n2                     5  \n3                     3  \n4                     3  \n...                 ...  \n6739090               4  \n6739091               4  \n6739092               5  \n6739093               5  \n6739094               4  \n\n[6739095 rows x 11 columns]",
      "text/html": "<div>\n<style scoped>\n    .dataframe tbody tr th:only-of-type {\n        vertical-align: middle;\n    }\n\n    .dataframe tbody tr th {\n        vertical-align: top;\n    }\n\n    .dataframe thead th {\n        text-align: right;\n    }\n</style>\n<table border=\"1\" class=\"dataframe\">\n  <thead>\n    <tr style=\"text-align: right;\">\n      <th></th>\n      <th>facts</th>\n      <th>uid</th>\n      <th>fid</th>\n      <th>ts</th>\n      <th>url</th>\n      <th>url_segment_0</th>\n      <th>url_segment_1</th>\n      <th>url_segment_2</th>\n      <th>url_segment_3</th>\n      <th>url_segment_4</th>\n      <th>url_path_depth</th>\n    </tr>\n  </thead>\n  <tbody>\n    <tr>\n      <th>0</th>\n      <td>{'fid': 6135636, 'ts': 1464201356667}</td>\n      <td>8478e6a4211f9cc38608ce07375ab587</td>\n      <td>6135636</td>\n      <td>1464201356667</td>\n      <td>d33de24430bf4005/7de2f069da3a3655/6a30a933225c3548/a9da5e44f08b302e</td>\n      <td>d33de24430bf4005</td>\n      <td>d33de24430bf4005/7de2f069da3a3655</td>\n      <td>d33de24430bf4005/7de2f069da3a3655/6a30a933225c3548</td>\n      <td>d33de24430bf4005/7de2f069da3a3655/6a30a933225c3548/a9da5e44f08b302e</td>\n      <td>d33de24430bf4005/7de2f069da3a3655/6a30a933225c3548/a9da5e44f08b302e</td>\n      <td>4</td>\n    </tr>\n    <tr>\n      <th>1</th>\n      <td>{'fid': 6135636, 'ts': 1464201326667}</td>\n      <td>8478e6a4211f9cc38608ce07375ab587</td>\n      <td>6135636</td>\n      <td>1464201326667</td>\n      <td>d33de24430bf4005/7de2f069da3a3655/6a30a933225c3548/a9da5e44f08b302e</td>\n      <td>d33de24430bf4005</td>\n      <td>d33de24430bf4005/7de2f069da3a3655</td>\n      <td>d33de24430bf4005/7de2f069da3a3655/6a30a933225c3548</td>\n      <td>d33de24430bf4005/7de2f069da3a3655/6a30a933225c3548/a9da5e44f08b302e</td>\n      <td>d33de24430bf4005/7de2f069da3a3655/6a30a933225c3548/a9da5e44f08b302e</td>\n      <td>4</td>\n    </tr>\n    <tr>\n      <th>2</th>\n      <td>{'fid': 10225497, 'ts': 1464193434239}</td>\n      <td>8478e6a4211f9cc38608ce07375ab587</td>\n      <td>10225497</td>\n      <td>1464193434239</td>\n      <td>8992698f779504dd/64dde630ecabd85/d13353338202e7d2/879271064ca0b858/c763353373b99001</td>\n      <td>8992698f779504dd</td>\n      <td>8992698f779504dd/64dde630ecabd85</td>\n      <td>8992698f779504dd/64dde630ecabd85/d13353338202e7d2</td>\n      <td>8992698f779504dd/64dde630ecabd85/d13353338202e7d2/879271064ca0b858</td>\n      <td>8992698f779504dd/64dde630ecabd85/d13353338202e7d2/879271064ca0b858/c763353373b99001</td>\n      <td>5</td>\n    </tr>\n    <tr>\n      <th>3</th>\n      <td>{'fid': 2036842, 'ts': 1464192577609}</td>\n      <td>8478e6a4211f9cc38608ce07375ab587</td>\n      <td>2036842</td>\n      <td>1464192577609</td>\n      <td>0e88b67f68cd2787/537df06f127af450/3acb09862ed13756</td>\n      <td>0e88b67f68cd2787</td>\n      <td>0e88b67f68cd2787/537df06f127af450</td>\n      <td>0e88b67f68cd2787/537df06f127af450/3acb09862ed13756</td>\n      <td>0e88b67f68cd2787/537df06f127af450/3acb09862ed13756</td>\n      <td>0e88b67f68cd2787/537df06f127af450/3acb09862ed13756</td>\n      <td>3</td>\n    </tr>\n    <tr>\n      <th>4</th>\n      <td>{'fid': 2036842, 'ts': 1465538647609}</td>\n      <td>ff470caf31d1322878f5bab93fe87008</td>\n      <td>2036842</td>\n      <td>1465538647609</td>\n      <td>0e88b67f68cd2787/537df06f127af450/3acb09862ed13756</td>\n      <td>0e88b67f68cd2787</td>\n      <td>0e88b67f68cd2787/537df06f127af450</td>\n      <td>0e88b67f68cd2787/537df06f127af450/3acb09862ed13756</td>\n      <td>0e88b67f68cd2787/537df06f127af450/3acb09862ed13756</td>\n      <td>0e88b67f68cd2787/537df06f127af450/3acb09862ed13756</td>\n      <td>3</td>\n    </tr>\n    <tr>\n      <th>...</th>\n      <td>...</td>\n      <td>...</td>\n      <td>...</td>\n      <td>...</td>\n      <td>...</td>\n      <td>...</td>\n      <td>...</td>\n      <td>...</td>\n      <td>...</td>\n      <td>...</td>\n      <td>...</td>\n    </tr>\n    <tr>\n      <th>6739090</th>\n      <td>{'fid': 12914313, 'ts': 1465828854927}</td>\n      <td>14e6a05f05a4226b99fb86e0bc50dfad</td>\n      <td>12914313</td>\n      <td>1465828854927</td>\n      <td>ed95a9a5be30e4c8/d400c9e183de73f3/761fabc659e8b0ea/3b329b665c0bbe1d</td>\n      <td>ed95a9a5be30e4c8</td>\n      <td>ed95a9a5be30e4c8/d400c9e183de73f3</td>\n      <td>ed95a9a5be30e4c8/d400c9e183de73f3/761fabc659e8b0ea</td>\n      <td>ed95a9a5be30e4c8/d400c9e183de73f3/761fabc659e8b0ea/3b329b665c0bbe1d</td>\n      <td>ed95a9a5be30e4c8/d400c9e183de73f3/761fabc659e8b0ea/3b329b665c0bbe1d</td>\n      <td>4</td>\n    </tr>\n    <tr>\n      <th>6739091</th>\n      <td>{'fid': 13683932, 'ts': 1465828848893}</td>\n      <td>14e6a05f05a4226b99fb86e0bc50dfad</td>\n      <td>13683932</td>\n      <td>1465828848893</td>\n      <td>ed95a9a5be30e4c8/d400c9e183de73f3/761fabc659e8b0ea/b925e91110fa7167</td>\n      <td>ed95a9a5be30e4c8</td>\n      <td>ed95a9a5be30e4c8/d400c9e183de73f3</td>\n      <td>ed95a9a5be30e4c8/d400c9e183de73f3/761fabc659e8b0ea</td>\n      <td>ed95a9a5be30e4c8/d400c9e183de73f3/761fabc659e8b0ea/b925e91110fa7167</td>\n      <td>ed95a9a5be30e4c8/d400c9e183de73f3/761fabc659e8b0ea/b925e91110fa7167</td>\n      <td>4</td>\n    </tr>\n    <tr>\n      <th>6739092</th>\n      <td>{'fid': 12854313, 'ts': 1465828788160}</td>\n      <td>14e6a05f05a4226b99fb86e0bc50dfad</td>\n      <td>12854313</td>\n      <td>1465828788160</td>\n      <td>ed95a9a5be30e4c8/d400c9e183de73f3/761fabc659e8b0ea/da0730aa0b149bd0/ee44da7e5dd2b3cc?32888c1b78217f8d</td>\n      <td>ed95a9a5be30e4c8</td>\n      <td>ed95a9a5be30e4c8/d400c9e183de73f3</td>\n      <td>ed95a9a5be30e4c8/d400c9e183de73f3/761fabc659e8b0ea</td>\n      <td>ed95a9a5be30e4c8/d400c9e183de73f3/761fabc659e8b0ea/da0730aa0b149bd0</td>\n      <td>ed95a9a5be30e4c8/d400c9e183de73f3/761fabc659e8b0ea/da0730aa0b149bd0/ee44da7e5dd2b3cc</td>\n      <td>5</td>\n    </tr>\n    <tr>\n      <th>6739093</th>\n      <td>{'fid': 6056513, 'ts': 1465828469495}</td>\n      <td>14e6a05f05a4226b99fb86e0bc50dfad</td>\n      <td>6056513</td>\n      <td>1465828469495</td>\n      <td>f3185e90acedd8c/6948a094778c660/fb6015ae52a94e92/2ba3d4bb006f0afd/e24ac23d52ec7bcc</td>\n      <td>f3185e90acedd8c</td>\n      <td>f3185e90acedd8c/6948a094778c660</td>\n      <td>f3185e90acedd8c/6948a094778c660/fb6015ae52a94e92</td>\n      <td>f3185e90acedd8c/6948a094778c660/fb6015ae52a94e92/2ba3d4bb006f0afd</td>\n      <td>f3185e90acedd8c/6948a094778c660/fb6015ae52a94e92/2ba3d4bb006f0afd/e24ac23d52ec7bcc</td>\n      <td>5</td>\n    </tr>\n    <tr>\n      <th>6739094</th>\n      <td>{'fid': 3335637, 'ts': 1465828089349}</td>\n      <td>14e6a05f05a4226b99fb86e0bc50dfad</td>\n      <td>3335637</td>\n      <td>1465828089349</td>\n      <td>34078dbadf21da6/7d666c75e3d3a27/e1568a7733a61b12/640ae06baa4066db</td>\n      <td>34078dbadf21da6</td>\n      <td>34078dbadf21da6/7d666c75e3d3a27</td>\n      <td>34078dbadf21da6/7d666c75e3d3a27/e1568a7733a61b12</td>\n      <td>34078dbadf21da6/7d666c75e3d3a27/e1568a7733a61b12/640ae06baa4066db</td>\n      <td>34078dbadf21da6/7d666c75e3d3a27/e1568a7733a61b12/640ae06baa4066db</td>\n      <td>4</td>\n    </tr>\n  </tbody>\n</table>\n<p>6739095 rows × 11 columns</p>\n</div>"
     },
     "execution_count": 20,
     "metadata": {},
     "output_type": "execute_result"
    }
   ],
   "source": [
    "user_web_df[url_new_column_names] = \\\n",
    "    user_web_df.apply(lambda row: url_parse(row.url), axis=1, result_type ='expand')\n",
    "user_web_df"
   ],
   "metadata": {
    "collapsed": false,
    "pycharm": {
     "name": "#%%\n"
    }
   }
  },
  {
   "cell_type": "markdown",
   "source": [
    "### Format and Write CSVs"
   ],
   "metadata": {
    "collapsed": false,
    "pycharm": {
     "name": "#%% md\n"
    }
   }
  },
  {
   "cell_type": "code",
   "execution_count": 21,
   "outputs": [
    {
     "data": {
      "text/plain": "0          8478e6a4211f9cc38608ce07375ab587\n4          ff470caf31d1322878f5bab93fe87008\n8          cbc8e6ce72ece53140217ff26f1ac327\n9          ff6ba95c715bd148a534b5ac5a5a00cd\n10         3950e76c6196e4b970b54bca187ae8d3\n                         ...               \n6344115    e1be657266ee6ae9ceeeeb13b214ceb2\n6488303    93745acc93d3745aa0e334a8f1e2428c\n6554604    9fdb0985476c62514ad63250ae7d5421\n6602227    524b9360faf628eae42d2f45d9b9be8c\n6634982    4dedc44158b262ef50b45d3df2cecf2d\nName: uid, Length: 33941, dtype: object"
     },
     "execution_count": 21,
     "metadata": {},
     "output_type": "execute_result"
    }
   ],
   "source": [
    "# Users\n",
    "user_df = user_web_df['uid'].drop_duplicates()\n",
    "user_df.to_csv(f'{NEO4J_IMPORT_DIR}/users.csv', index=False)\n",
    "user_df"
   ],
   "metadata": {
    "collapsed": false,
    "pycharm": {
     "name": "#%%\n"
    }
   }
  },
  {
   "cell_type": "code",
   "execution_count": 22,
   "outputs": [
    {
     "data": {
      "text/plain": "                                  uid1                              uid2  \\\n0     ab301fd4824c32f1d2946ede295e2e42  b669962d925feb0d9f1ab3e166684458   \n1     3662c746e4bde44c877a43df203b35d2  c249aaae2888209681b0427f847795a1   \n2     15b68e3803dd57699081a7d032ed4771  f185649bf662c60d1c6db9776015a053   \n3     1e3ac11c9915011ecb409d49030ed723  f67853bc71451337c60ce96b11731b1b   \n4     9a45e25885b188a1376b9d36fdbe6f66  a210c77b3972ef0e38a60383e3d643d7   \n...                                ...                               ...   \n5004  28d676ec00fddd57beee374a234bee13  2cf039cd841c9cf4d352f1247b343e49   \n5005  29c9210c684ff1824ba50302ae6b48dc  9cd3d95790e17738d02f0b6a87f368ae   \n5006  29c9210c684ff1824ba50302ae6b48dc  c9da17dd14b1760345693cd61d91edbb   \n5007  9cd3d95790e17738d02f0b6a87f368ae  c9da17dd14b1760345693cd61d91edbb   \n5008  778e738f89f9f8c2c9ecc6c76b22ddf5  ae809ad8e46efd3ec90967bd9f58e85b   \n\n                                 uid_x                             uid_y  \n0     ab301fd4824c32f1d2946ede295e2e42  b669962d925feb0d9f1ab3e166684458  \n1     3662c746e4bde44c877a43df203b35d2  c249aaae2888209681b0427f847795a1  \n2     15b68e3803dd57699081a7d032ed4771  f185649bf662c60d1c6db9776015a053  \n3     1e3ac11c9915011ecb409d49030ed723  f67853bc71451337c60ce96b11731b1b  \n4     9a45e25885b188a1376b9d36fdbe6f66  a210c77b3972ef0e38a60383e3d643d7  \n...                                ...                               ...  \n5004  28d676ec00fddd57beee374a234bee13  2cf039cd841c9cf4d352f1247b343e49  \n5005  29c9210c684ff1824ba50302ae6b48dc  9cd3d95790e17738d02f0b6a87f368ae  \n5006  29c9210c684ff1824ba50302ae6b48dc  c9da17dd14b1760345693cd61d91edbb  \n5007  9cd3d95790e17738d02f0b6a87f368ae  c9da17dd14b1760345693cd61d91edbb  \n5008  778e738f89f9f8c2c9ecc6c76b22ddf5  ae809ad8e46efd3ec90967bd9f58e85b  \n\n[5009 rows x 4 columns]",
      "text/html": "<div>\n<style scoped>\n    .dataframe tbody tr th:only-of-type {\n        vertical-align: middle;\n    }\n\n    .dataframe tbody tr th {\n        vertical-align: top;\n    }\n\n    .dataframe thead th {\n        text-align: right;\n    }\n</style>\n<table border=\"1\" class=\"dataframe\">\n  <thead>\n    <tr style=\"text-align: right;\">\n      <th></th>\n      <th>uid1</th>\n      <th>uid2</th>\n      <th>uid_x</th>\n      <th>uid_y</th>\n    </tr>\n  </thead>\n  <tbody>\n    <tr>\n      <th>0</th>\n      <td>ab301fd4824c32f1d2946ede295e2e42</td>\n      <td>b669962d925feb0d9f1ab3e166684458</td>\n      <td>ab301fd4824c32f1d2946ede295e2e42</td>\n      <td>b669962d925feb0d9f1ab3e166684458</td>\n    </tr>\n    <tr>\n      <th>1</th>\n      <td>3662c746e4bde44c877a43df203b35d2</td>\n      <td>c249aaae2888209681b0427f847795a1</td>\n      <td>3662c746e4bde44c877a43df203b35d2</td>\n      <td>c249aaae2888209681b0427f847795a1</td>\n    </tr>\n    <tr>\n      <th>2</th>\n      <td>15b68e3803dd57699081a7d032ed4771</td>\n      <td>f185649bf662c60d1c6db9776015a053</td>\n      <td>15b68e3803dd57699081a7d032ed4771</td>\n      <td>f185649bf662c60d1c6db9776015a053</td>\n    </tr>\n    <tr>\n      <th>3</th>\n      <td>1e3ac11c9915011ecb409d49030ed723</td>\n      <td>f67853bc71451337c60ce96b11731b1b</td>\n      <td>1e3ac11c9915011ecb409d49030ed723</td>\n      <td>f67853bc71451337c60ce96b11731b1b</td>\n    </tr>\n    <tr>\n      <th>4</th>\n      <td>9a45e25885b188a1376b9d36fdbe6f66</td>\n      <td>a210c77b3972ef0e38a60383e3d643d7</td>\n      <td>9a45e25885b188a1376b9d36fdbe6f66</td>\n      <td>a210c77b3972ef0e38a60383e3d643d7</td>\n    </tr>\n    <tr>\n      <th>...</th>\n      <td>...</td>\n      <td>...</td>\n      <td>...</td>\n      <td>...</td>\n    </tr>\n    <tr>\n      <th>5004</th>\n      <td>28d676ec00fddd57beee374a234bee13</td>\n      <td>2cf039cd841c9cf4d352f1247b343e49</td>\n      <td>28d676ec00fddd57beee374a234bee13</td>\n      <td>2cf039cd841c9cf4d352f1247b343e49</td>\n    </tr>\n    <tr>\n      <th>5005</th>\n      <td>29c9210c684ff1824ba50302ae6b48dc</td>\n      <td>9cd3d95790e17738d02f0b6a87f368ae</td>\n      <td>29c9210c684ff1824ba50302ae6b48dc</td>\n      <td>9cd3d95790e17738d02f0b6a87f368ae</td>\n    </tr>\n    <tr>\n      <th>5006</th>\n      <td>29c9210c684ff1824ba50302ae6b48dc</td>\n      <td>c9da17dd14b1760345693cd61d91edbb</td>\n      <td>29c9210c684ff1824ba50302ae6b48dc</td>\n      <td>c9da17dd14b1760345693cd61d91edbb</td>\n    </tr>\n    <tr>\n      <th>5007</th>\n      <td>9cd3d95790e17738d02f0b6a87f368ae</td>\n      <td>c9da17dd14b1760345693cd61d91edbb</td>\n      <td>9cd3d95790e17738d02f0b6a87f368ae</td>\n      <td>c9da17dd14b1760345693cd61d91edbb</td>\n    </tr>\n    <tr>\n      <th>5008</th>\n      <td>778e738f89f9f8c2c9ecc6c76b22ddf5</td>\n      <td>ae809ad8e46efd3ec90967bd9f58e85b</td>\n      <td>778e738f89f9f8c2c9ecc6c76b22ddf5</td>\n      <td>ae809ad8e46efd3ec90967bd9f58e85b</td>\n    </tr>\n  </tbody>\n</table>\n<p>5009 rows × 4 columns</p>\n</div>"
     },
     "execution_count": 22,
     "metadata": {},
     "output_type": "execute_result"
    }
   ],
   "source": [
    "# (User)-[SAME_AS]->(User)\n",
    "alignment_df.to_csv(f'{NEO4J_IMPORT_DIR}/user_alignments.csv', index=False)\n",
    "alignment_df"
   ],
   "metadata": {
    "collapsed": false,
    "pycharm": {
     "name": "#%%\n"
    }
   }
  },
  {
   "cell_type": "code",
   "execution_count": 23,
   "outputs": [
    {
     "data": {
      "text/plain": "                                                                                          url1  \\\n0                                                                             d33de24430bf4005   \n2                                                                             8992698f779504dd   \n3                                                                             0e88b67f68cd2787   \n143                                                                           179e7eb2c28811df   \n145                                                                           657b15c5499c303b   \n...                                                                                        ...   \n15965112                                     d60f4f5ba631d8df/52021da41b4f622/227c5d7bda6f3e88   \n15965113  ed95a9a5be30e4c8/d400c9e183de73f3/761fabc659e8b0ea/da0730aa0b149bd0/ee44da7e5dd2b3cc   \n15965114  ed95a9a5be30e4c8/d400c9e183de73f3/761fabc659e8b0ea/da0730aa0b149bd0/ee44da7e5dd2b3cc   \n15965115  ed95a9a5be30e4c8/d400c9e183de73f3/761fabc659e8b0ea/da0730aa0b149bd0/ee44da7e5dd2b3cc   \n15965116  ed95a9a5be30e4c8/d400c9e183de73f3/761fabc659e8b0ea/da0730aa0b149bd0/ee44da7e5dd2b3cc   \n\n                                                                                                           url2  \n0                                                                             d33de24430bf4005/7de2f069da3a3655  \n2                                                                              8992698f779504dd/64dde630ecabd85  \n3                                                                             0e88b67f68cd2787/537df06f127af450  \n143                                                                            179e7eb2c28811df/a828c5625a5d322  \n145                                                                           657b15c5499c303b/8601f09e63f92ad6  \n...                                                                                                         ...  \n15965112                                     d60f4f5ba631d8df/52021da41b4f622/227c5d7bda6f3e88?f32ed304ed5d1e4f  \n15965113  ed95a9a5be30e4c8/d400c9e183de73f3/761fabc659e8b0ea/da0730aa0b149bd0/ee44da7e5dd2b3cc?826be01e660d62ad  \n15965114  ed95a9a5be30e4c8/d400c9e183de73f3/761fabc659e8b0ea/da0730aa0b149bd0/ee44da7e5dd2b3cc?e9620fa84042e313  \n15965115   ed95a9a5be30e4c8/d400c9e183de73f3/761fabc659e8b0ea/da0730aa0b149bd0/ee44da7e5dd2b3cc?0c735d45149a776  \n15965116  ed95a9a5be30e4c8/d400c9e183de73f3/761fabc659e8b0ea/da0730aa0b149bd0/ee44da7e5dd2b3cc?32888c1b78217f8d  \n\n[2330404 rows x 2 columns]",
      "text/html": "<div>\n<style scoped>\n    .dataframe tbody tr th:only-of-type {\n        vertical-align: middle;\n    }\n\n    .dataframe tbody tr th {\n        vertical-align: top;\n    }\n\n    .dataframe thead th {\n        text-align: right;\n    }\n</style>\n<table border=\"1\" class=\"dataframe\">\n  <thead>\n    <tr style=\"text-align: right;\">\n      <th></th>\n      <th>url1</th>\n      <th>url2</th>\n    </tr>\n  </thead>\n  <tbody>\n    <tr>\n      <th>0</th>\n      <td>d33de24430bf4005</td>\n      <td>d33de24430bf4005/7de2f069da3a3655</td>\n    </tr>\n    <tr>\n      <th>2</th>\n      <td>8992698f779504dd</td>\n      <td>8992698f779504dd/64dde630ecabd85</td>\n    </tr>\n    <tr>\n      <th>3</th>\n      <td>0e88b67f68cd2787</td>\n      <td>0e88b67f68cd2787/537df06f127af450</td>\n    </tr>\n    <tr>\n      <th>143</th>\n      <td>179e7eb2c28811df</td>\n      <td>179e7eb2c28811df/a828c5625a5d322</td>\n    </tr>\n    <tr>\n      <th>145</th>\n      <td>657b15c5499c303b</td>\n      <td>657b15c5499c303b/8601f09e63f92ad6</td>\n    </tr>\n    <tr>\n      <th>...</th>\n      <td>...</td>\n      <td>...</td>\n    </tr>\n    <tr>\n      <th>15965112</th>\n      <td>d60f4f5ba631d8df/52021da41b4f622/227c5d7bda6f3e88</td>\n      <td>d60f4f5ba631d8df/52021da41b4f622/227c5d7bda6f3e88?f32ed304ed5d1e4f</td>\n    </tr>\n    <tr>\n      <th>15965113</th>\n      <td>ed95a9a5be30e4c8/d400c9e183de73f3/761fabc659e8b0ea/da0730aa0b149bd0/ee44da7e5dd2b3cc</td>\n      <td>ed95a9a5be30e4c8/d400c9e183de73f3/761fabc659e8b0ea/da0730aa0b149bd0/ee44da7e5dd2b3cc?826be01e660d62ad</td>\n    </tr>\n    <tr>\n      <th>15965114</th>\n      <td>ed95a9a5be30e4c8/d400c9e183de73f3/761fabc659e8b0ea/da0730aa0b149bd0/ee44da7e5dd2b3cc</td>\n      <td>ed95a9a5be30e4c8/d400c9e183de73f3/761fabc659e8b0ea/da0730aa0b149bd0/ee44da7e5dd2b3cc?e9620fa84042e313</td>\n    </tr>\n    <tr>\n      <th>15965115</th>\n      <td>ed95a9a5be30e4c8/d400c9e183de73f3/761fabc659e8b0ea/da0730aa0b149bd0/ee44da7e5dd2b3cc</td>\n      <td>ed95a9a5be30e4c8/d400c9e183de73f3/761fabc659e8b0ea/da0730aa0b149bd0/ee44da7e5dd2b3cc?0c735d45149a776</td>\n    </tr>\n    <tr>\n      <th>15965116</th>\n      <td>ed95a9a5be30e4c8/d400c9e183de73f3/761fabc659e8b0ea/da0730aa0b149bd0/ee44da7e5dd2b3cc</td>\n      <td>ed95a9a5be30e4c8/d400c9e183de73f3/761fabc659e8b0ea/da0730aa0b149bd0/ee44da7e5dd2b3cc?32888c1b78217f8d</td>\n    </tr>\n  </tbody>\n</table>\n<p>2330404 rows × 2 columns</p>\n</div>"
     },
     "execution_count": 23,
     "metadata": {},
     "output_type": "execute_result"
    }
   ],
   "source": [
    "# (Website)-[:CHILD_OF]->(Website)\n",
    "all_url_column_names = url_segment_names + ['url']\n",
    "\n",
    "web_hierarchy_dfs = []\n",
    "\n",
    "for i in range(len(all_url_column_names)-1):\n",
    "    url1 = all_url_column_names[i]\n",
    "    url2 = all_url_column_names[i + 1]\n",
    "\n",
    "    web_hier_segment_df = user_web_df[[url1, url2]]\n",
    "    web_hier_segment_df = web_hier_segment_df.rename(columns={url1:\"url1\", url2:\"url2\"})\n",
    "    web_hier_segment_df = web_hier_segment_df[web_hier_segment_df.url1 != web_hier_segment_df.url2]\n",
    "    web_hierarchy_dfs.append(web_hier_segment_df)\n",
    "\n",
    "web_hierarchy_df = pd.concat(web_hierarchy_dfs, ignore_index=True).drop_duplicates()\n",
    "\n",
    "web_hierarchy_df.to_csv(f'{NEO4J_IMPORT_DIR}/web_hierarchy.csv', index=False)\n",
    "web_hierarchy_df"
   ],
   "metadata": {
    "collapsed": false,
    "pycharm": {
     "name": "#%%\n"
    }
   }
  },
  {
   "cell_type": "code",
   "execution_count": 24,
   "outputs": [
    {
     "data": {
      "text/plain": "                                                                                                            url  \\\n0                                                                                              d33de24430bf4005   \n2                                                                                              8992698f779504dd   \n3                                                                                              0e88b67f68cd2787   \n143                                                                                            179e7eb2c28811df   \n145                                                                                            657b15c5499c303b   \n...                                                                                                         ...   \n40434540                                     d60f4f5ba631d8df/52021da41b4f622/227c5d7bda6f3e88?f32ed304ed5d1e4f   \n40434562  ed95a9a5be30e4c8/d400c9e183de73f3/761fabc659e8b0ea/da0730aa0b149bd0/ee44da7e5dd2b3cc?826be01e660d62ad   \n40434563  ed95a9a5be30e4c8/d400c9e183de73f3/761fabc659e8b0ea/da0730aa0b149bd0/ee44da7e5dd2b3cc?e9620fa84042e313   \n40434564   ed95a9a5be30e4c8/d400c9e183de73f3/761fabc659e8b0ea/da0730aa0b149bd0/ee44da7e5dd2b3cc?0c735d45149a776   \n40434567  ed95a9a5be30e4c8/d400c9e183de73f3/761fabc659e8b0ea/da0730aa0b149bd0/ee44da7e5dd2b3cc?32888c1b78217f8d   \n\n          url_path_depth  \n0                      1  \n2                      1  \n3                      1  \n143                    1  \n145                    1  \n...                  ...  \n40434540               3  \n40434562               5  \n40434563               5  \n40434564               5  \n40434567               5  \n\n[2399920 rows x 2 columns]",
      "text/html": "<div>\n<style scoped>\n    .dataframe tbody tr th:only-of-type {\n        vertical-align: middle;\n    }\n\n    .dataframe tbody tr th {\n        vertical-align: top;\n    }\n\n    .dataframe thead th {\n        text-align: right;\n    }\n</style>\n<table border=\"1\" class=\"dataframe\">\n  <thead>\n    <tr style=\"text-align: right;\">\n      <th></th>\n      <th>url</th>\n      <th>url_path_depth</th>\n    </tr>\n  </thead>\n  <tbody>\n    <tr>\n      <th>0</th>\n      <td>d33de24430bf4005</td>\n      <td>1</td>\n    </tr>\n    <tr>\n      <th>2</th>\n      <td>8992698f779504dd</td>\n      <td>1</td>\n    </tr>\n    <tr>\n      <th>3</th>\n      <td>0e88b67f68cd2787</td>\n      <td>1</td>\n    </tr>\n    <tr>\n      <th>143</th>\n      <td>179e7eb2c28811df</td>\n      <td>1</td>\n    </tr>\n    <tr>\n      <th>145</th>\n      <td>657b15c5499c303b</td>\n      <td>1</td>\n    </tr>\n    <tr>\n      <th>...</th>\n      <td>...</td>\n      <td>...</td>\n    </tr>\n    <tr>\n      <th>40434540</th>\n      <td>d60f4f5ba631d8df/52021da41b4f622/227c5d7bda6f3e88?f32ed304ed5d1e4f</td>\n      <td>3</td>\n    </tr>\n    <tr>\n      <th>40434562</th>\n      <td>ed95a9a5be30e4c8/d400c9e183de73f3/761fabc659e8b0ea/da0730aa0b149bd0/ee44da7e5dd2b3cc?826be01e660d62ad</td>\n      <td>5</td>\n    </tr>\n    <tr>\n      <th>40434563</th>\n      <td>ed95a9a5be30e4c8/d400c9e183de73f3/761fabc659e8b0ea/da0730aa0b149bd0/ee44da7e5dd2b3cc?e9620fa84042e313</td>\n      <td>5</td>\n    </tr>\n    <tr>\n      <th>40434564</th>\n      <td>ed95a9a5be30e4c8/d400c9e183de73f3/761fabc659e8b0ea/da0730aa0b149bd0/ee44da7e5dd2b3cc?0c735d45149a776</td>\n      <td>5</td>\n    </tr>\n    <tr>\n      <th>40434567</th>\n      <td>ed95a9a5be30e4c8/d400c9e183de73f3/761fabc659e8b0ea/da0730aa0b149bd0/ee44da7e5dd2b3cc?32888c1b78217f8d</td>\n      <td>5</td>\n    </tr>\n  </tbody>\n</table>\n<p>2399920 rows × 2 columns</p>\n</div>"
     },
     "execution_count": 24,
     "metadata": {},
     "output_type": "execute_result"
    }
   ],
   "source": [
    "# Websites\n",
    "websites_dfs = []\n",
    "for url in all_url_column_names:\n",
    "    websites_df_staging = user_web_df[[url, \"url_path_depth\"]]\n",
    "    if url != 'url':\n",
    "        websites_df_staging = websites_df_staging.rename(columns={url:\"url\"})\n",
    "        websites_df_staging = websites_df_staging.drop(columns=\"url_path_depth\")\n",
    "        websites_df_staging = websites_df_staging.assign(url_path_depth=int(url[-1]) + 1)\n",
    "    websites_dfs.append(websites_df_staging)\n",
    "\n",
    "websites_df = pd.concat(websites_dfs, ignore_index=True).drop_duplicates(subset=\"url\")\n",
    "websites_df.to_csv(f'{NEO4J_IMPORT_DIR}/websites.csv', index=False)\n",
    "websites_df"
   ],
   "metadata": {
    "collapsed": false,
    "pycharm": {
     "name": "#%%\n"
    }
   }
  },
  {
   "cell_type": "code",
   "execution_count": 25,
   "outputs": [
    {
     "data": {
      "text/plain": "                                      uid  \\\n0        0001cd76a7fb602d8a8117d6a9da149e   \n1        0001cd76a7fb602d8a8117d6a9da149e   \n2        0001cd76a7fb602d8a8117d6a9da149e   \n3        0001cd76a7fb602d8a8117d6a9da149e   \n4        0001cd76a7fb602d8a8117d6a9da149e   \n...                                   ...   \n2841386  fffe8dba19178cf592196ce09074c3e8   \n2841387  fffe8dba19178cf592196ce09074c3e8   \n2841388  fffe8dba19178cf592196ce09074c3e8   \n2841389  fffe8dba19178cf592196ce09074c3e8   \n2841390  fffe8dba19178cf592196ce09074c3e8   \n\n                                                                                          url  \\\n0                          17446fcdba10b6d8/45c5a7a4c893f6a1/dc47363579806396/ccd00814d9e8747   \n1                         5e1208241ce0cc1f/6a30a933225c3548/58f9792b4821ccc0/c83355c3b2a0df6d   \n2            6ae12ea8ec730ba5/281bb5a0f4846ea7/802fc6a2d4f41295/34702b07a20db/8b84b6e138385d6   \n3                                          a2479ee9a8f008fb/f34f54ecea422c5f?f8198452150730be   \n4                                                           a997482113271d8f/5758f309e11931ce   \n...                                                                                       ...   \n2841386                    f51d84644e93caf1/c1e7c35981fef9da/aed120160eb27b8a/2da79da3ae8a5a0   \n2841387  f51d84644e93caf1/c1e7c35981fef9da/aed120160eb27b8a/dd4daec06615b495?73e599f6763e4f17   \n2841388                   f51d84644e93caf1/c1e7c35981fef9da/c0995aab09f322e2/0ef0b6193d63a6f8   \n2841389                   f51d84644e93caf1/c1e7c35981fef9da/c0995aab09f322e2/18c74de9312d1d4c   \n2841390                   f51d84644e93caf1/c1e7c35981fef9da/c0995aab09f322e2/5c2c6e8656dc1477   \n\n                                                                                    facts  \\\n0                                                 [{'fid': 6556998, 'ts': 1464822828629}]   \n1                                                 [{'fid': 5012705, 'ts': 1464967923421}]   \n2          [{'fid': 4840746, 'ts': 1464821234838}, {'fid': 4840746, 'ts': 1464821201771}]   \n3                                                [{'fid': 13369326, 'ts': 1464823009674}]   \n4                                                 [{'fid': 8799201, 'ts': 1464822784110}]   \n...                                                                                   ...   \n2841386  [{'fid': 12529937, 'ts': 1465231609021}, {'fid': 12529937, 'ts': 1465231579021}]   \n2841387    [{'fid': 6407588, 'ts': 1465231678041}, {'fid': 6407588, 'ts': 1465231648041}]   \n2841388                                          [{'fid': 10158342, 'ts': 1465231686977}]   \n2841389                                           [{'fid': 6051312, 'ts': 1465231572885}]   \n2841390                                           [{'fid': 5582405, 'ts': 1465231594988}]   \n\n                fid                              ts  number_of_visits  \n0         {6556998}                 [1464822828629]                 1  \n1         {5012705}                 [1464967923421]                 1  \n2         {4840746}  [1464821201771, 1464821234838]                 1  \n3        {13369326}                 [1464823009674]                 1  \n4         {8799201}                 [1464822784110]                 1  \n...             ...                             ...               ...  \n2841386  {12529937}  [1465231579021, 1465231609021]                 1  \n2841387   {6407588}  [1465231648041, 1465231678041]                 1  \n2841388  {10158342}                 [1465231686977]                 1  \n2841389   {6051312}                 [1465231572885]                 1  \n2841390   {5582405}                 [1465231594988]                 1  \n\n[2841391 rows x 6 columns]",
      "text/html": "<div>\n<style scoped>\n    .dataframe tbody tr th:only-of-type {\n        vertical-align: middle;\n    }\n\n    .dataframe tbody tr th {\n        vertical-align: top;\n    }\n\n    .dataframe thead th {\n        text-align: right;\n    }\n</style>\n<table border=\"1\" class=\"dataframe\">\n  <thead>\n    <tr style=\"text-align: right;\">\n      <th></th>\n      <th>uid</th>\n      <th>url</th>\n      <th>facts</th>\n      <th>fid</th>\n      <th>ts</th>\n      <th>number_of_visits</th>\n    </tr>\n  </thead>\n  <tbody>\n    <tr>\n      <th>0</th>\n      <td>0001cd76a7fb602d8a8117d6a9da149e</td>\n      <td>17446fcdba10b6d8/45c5a7a4c893f6a1/dc47363579806396/ccd00814d9e8747</td>\n      <td>[{'fid': 6556998, 'ts': 1464822828629}]</td>\n      <td>{6556998}</td>\n      <td>[1464822828629]</td>\n      <td>1</td>\n    </tr>\n    <tr>\n      <th>1</th>\n      <td>0001cd76a7fb602d8a8117d6a9da149e</td>\n      <td>5e1208241ce0cc1f/6a30a933225c3548/58f9792b4821ccc0/c83355c3b2a0df6d</td>\n      <td>[{'fid': 5012705, 'ts': 1464967923421}]</td>\n      <td>{5012705}</td>\n      <td>[1464967923421]</td>\n      <td>1</td>\n    </tr>\n    <tr>\n      <th>2</th>\n      <td>0001cd76a7fb602d8a8117d6a9da149e</td>\n      <td>6ae12ea8ec730ba5/281bb5a0f4846ea7/802fc6a2d4f41295/34702b07a20db/8b84b6e138385d6</td>\n      <td>[{'fid': 4840746, 'ts': 1464821234838}, {'fid': 4840746, 'ts': 1464821201771}]</td>\n      <td>{4840746}</td>\n      <td>[1464821201771, 1464821234838]</td>\n      <td>1</td>\n    </tr>\n    <tr>\n      <th>3</th>\n      <td>0001cd76a7fb602d8a8117d6a9da149e</td>\n      <td>a2479ee9a8f008fb/f34f54ecea422c5f?f8198452150730be</td>\n      <td>[{'fid': 13369326, 'ts': 1464823009674}]</td>\n      <td>{13369326}</td>\n      <td>[1464823009674]</td>\n      <td>1</td>\n    </tr>\n    <tr>\n      <th>4</th>\n      <td>0001cd76a7fb602d8a8117d6a9da149e</td>\n      <td>a997482113271d8f/5758f309e11931ce</td>\n      <td>[{'fid': 8799201, 'ts': 1464822784110}]</td>\n      <td>{8799201}</td>\n      <td>[1464822784110]</td>\n      <td>1</td>\n    </tr>\n    <tr>\n      <th>...</th>\n      <td>...</td>\n      <td>...</td>\n      <td>...</td>\n      <td>...</td>\n      <td>...</td>\n      <td>...</td>\n    </tr>\n    <tr>\n      <th>2841386</th>\n      <td>fffe8dba19178cf592196ce09074c3e8</td>\n      <td>f51d84644e93caf1/c1e7c35981fef9da/aed120160eb27b8a/2da79da3ae8a5a0</td>\n      <td>[{'fid': 12529937, 'ts': 1465231609021}, {'fid': 12529937, 'ts': 1465231579021}]</td>\n      <td>{12529937}</td>\n      <td>[1465231579021, 1465231609021]</td>\n      <td>1</td>\n    </tr>\n    <tr>\n      <th>2841387</th>\n      <td>fffe8dba19178cf592196ce09074c3e8</td>\n      <td>f51d84644e93caf1/c1e7c35981fef9da/aed120160eb27b8a/dd4daec06615b495?73e599f6763e4f17</td>\n      <td>[{'fid': 6407588, 'ts': 1465231678041}, {'fid': 6407588, 'ts': 1465231648041}]</td>\n      <td>{6407588}</td>\n      <td>[1465231648041, 1465231678041]</td>\n      <td>1</td>\n    </tr>\n    <tr>\n      <th>2841388</th>\n      <td>fffe8dba19178cf592196ce09074c3e8</td>\n      <td>f51d84644e93caf1/c1e7c35981fef9da/c0995aab09f322e2/0ef0b6193d63a6f8</td>\n      <td>[{'fid': 10158342, 'ts': 1465231686977}]</td>\n      <td>{10158342}</td>\n      <td>[1465231686977]</td>\n      <td>1</td>\n    </tr>\n    <tr>\n      <th>2841389</th>\n      <td>fffe8dba19178cf592196ce09074c3e8</td>\n      <td>f51d84644e93caf1/c1e7c35981fef9da/c0995aab09f322e2/18c74de9312d1d4c</td>\n      <td>[{'fid': 6051312, 'ts': 1465231572885}]</td>\n      <td>{6051312}</td>\n      <td>[1465231572885]</td>\n      <td>1</td>\n    </tr>\n    <tr>\n      <th>2841390</th>\n      <td>fffe8dba19178cf592196ce09074c3e8</td>\n      <td>f51d84644e93caf1/c1e7c35981fef9da/c0995aab09f322e2/5c2c6e8656dc1477</td>\n      <td>[{'fid': 5582405, 'ts': 1465231594988}]</td>\n      <td>{5582405}</td>\n      <td>[1465231594988]</td>\n      <td>1</td>\n    </tr>\n  </tbody>\n</table>\n<p>2841391 rows × 6 columns</p>\n</div>"
     },
     "execution_count": 25,
     "metadata": {},
     "output_type": "execute_result"
    }
   ],
   "source": [
    "## (User)-[:VISITED]->(Website)\n",
    "def sorted_list(x):\n",
    "    res = x.tolist()\n",
    "    res.sort()\n",
    "    return res\n",
    "\n",
    "users_web_visits_df = user_web_df[['uid','url','facts','fid','ts']].groupby(['uid','url']) \\\n",
    "    .agg({'facts': lambda x: x.tolist(),'fid': lambda x: set(x.tolist()), 'ts': lambda x: sorted_list(x)}) \\\n",
    "    .reset_index()\n",
    "users_web_visits_df['number_of_visits'] = users_web_visits_df.fid.apply(lambda x: len(x))\n",
    "users_web_visits_df.to_csv(f'{NEO4J_IMPORT_DIR}/user_website_visits.csv', index=False)\n",
    "users_web_visits_df"
   ],
   "metadata": {
    "collapsed": false,
    "pycharm": {
     "name": "#%%\n"
    }
   }
  },
  {
   "cell_type": "markdown",
   "source": [
    "## Load Data Into Neo4j\n",
    "In this section we will load the above transformed data into Neo4j."
   ],
   "metadata": {
    "collapsed": false,
    "pycharm": {
     "name": "#%% md\n"
    }
   }
  },
  {
   "cell_type": "code",
   "execution_count": 26,
   "outputs": [],
   "source": [
    "HOST = 'neo4j://localhost'\n",
    "USERNAME = 'neo4j'\n",
    "PASSWORD = 'password'\n",
    "\n",
    "gds = GraphDataScience(HOST, auth=(USERNAME, PASSWORD), aura_ds=False)"
   ],
   "metadata": {
    "collapsed": false,
    "pycharm": {
     "name": "#%%\n"
    }
   }
  },
  {
   "cell_type": "markdown",
   "source": [
    "### Set Uniqueness Constraints\n",
    "This step is critical for performant loading with merge patterns"
   ],
   "metadata": {
    "collapsed": false,
    "pycharm": {
     "name": "#%% md\n"
    }
   }
  },
  {
   "cell_type": "code",
   "execution_count": 27,
   "outputs": [
    {
     "data": {
      "text/plain": "Empty DataFrame\nColumns: []\nIndex: []",
      "text/html": "<div>\n<style scoped>\n    .dataframe tbody tr th:only-of-type {\n        vertical-align: middle;\n    }\n\n    .dataframe tbody tr th {\n        vertical-align: top;\n    }\n\n    .dataframe thead th {\n        text-align: right;\n    }\n</style>\n<table border=\"1\" class=\"dataframe\">\n  <thead>\n    <tr style=\"text-align: right;\">\n      <th></th>\n    </tr>\n  </thead>\n  <tbody>\n  </tbody>\n</table>\n</div>"
     },
     "execution_count": 27,
     "metadata": {},
     "output_type": "execute_result"
    }
   ],
   "source": [
    "gds.run_cypher('CREATE CONSTRAINT userId_unique IF NOT EXISTS ON (user:User) ASSERT user.userId  IS UNIQUE')\n",
    "gds.run_cypher('CREATE CONSTRAINT url_unique IF NOT EXISTS ON (website:Website) ASSERT website.url IS UNIQUE')"
   ],
   "metadata": {
    "collapsed": false,
    "pycharm": {
     "name": "#%%\n"
    }
   }
  },
  {
   "cell_type": "markdown",
   "source": [
    "### Load Nodes"
   ],
   "metadata": {
    "collapsed": false,
    "pycharm": {
     "name": "#%% md\n"
    }
   }
  },
  {
   "cell_type": "code",
   "execution_count": 28,
   "outputs": [
    {
     "data": {
      "text/plain": "   count(u)\n0     33941",
      "text/html": "<div>\n<style scoped>\n    .dataframe tbody tr th:only-of-type {\n        vertical-align: middle;\n    }\n\n    .dataframe tbody tr th {\n        vertical-align: top;\n    }\n\n    .dataframe thead th {\n        text-align: right;\n    }\n</style>\n<table border=\"1\" class=\"dataframe\">\n  <thead>\n    <tr style=\"text-align: right;\">\n      <th></th>\n      <th>count(u)</th>\n    </tr>\n  </thead>\n  <tbody>\n    <tr>\n      <th>0</th>\n      <td>33941</td>\n    </tr>\n  </tbody>\n</table>\n</div>"
     },
     "execution_count": 28,
     "metadata": {},
     "output_type": "execute_result"
    }
   ],
   "source": [
    "#load users\n",
    "gds.run_cypher(f'''\n",
    "    LOAD CSV WITH HEADERS FROM '{NEO4j_IMPORT_URL}/users.csv' AS row\n",
    "    MERGE (u:User {{userId:row.uid}})\n",
    "    RETURN count(u);\n",
    "''')"
   ],
   "metadata": {
    "collapsed": false,
    "pycharm": {
     "name": "#%%\n"
    }
   }
  },
  {
   "cell_type": "code",
   "execution_count": 30,
   "outputs": [
    {
     "data": {
      "text/plain": "   count(w)\n0   2399920",
      "text/html": "<div>\n<style scoped>\n    .dataframe tbody tr th:only-of-type {\n        vertical-align: middle;\n    }\n\n    .dataframe tbody tr th {\n        vertical-align: top;\n    }\n\n    .dataframe thead th {\n        text-align: right;\n    }\n</style>\n<table border=\"1\" class=\"dataframe\">\n  <thead>\n    <tr style=\"text-align: right;\">\n      <th></th>\n      <th>count(w)</th>\n    </tr>\n  </thead>\n  <tbody>\n    <tr>\n      <th>0</th>\n      <td>2399920</td>\n    </tr>\n  </tbody>\n</table>\n</div>"
     },
     "execution_count": 30,
     "metadata": {},
     "output_type": "execute_result"
    }
   ],
   "source": [
    "#load websites\n",
    "gds.run_cypher(f'''\n",
    "    USING PERIODIC COMMIT 10000\n",
    "    LOAD CSV WITH HEADERS FROM '{NEO4j_IMPORT_URL}/websites.csv' AS row\n",
    "    MERGE (w:Website {{url: row.url}})\n",
    "    ON CREATE\n",
    "        SET w.urlPathDepth = toInteger(row.url_path_depth)\n",
    "    RETURN count(w);\n",
    "''')"
   ],
   "metadata": {
    "collapsed": false,
    "pycharm": {
     "name": "#%%\n"
    }
   }
  },
  {
   "cell_type": "markdown",
   "source": [
    "### Load Relationships"
   ],
   "metadata": {
    "collapsed": false,
    "pycharm": {
     "name": "#%% md\n"
    }
   }
  },
  {
   "cell_type": "code",
   "execution_count": 31,
   "outputs": [
    {
     "data": {
      "text/plain": "   count(r)\n0      5009",
      "text/html": "<div>\n<style scoped>\n    .dataframe tbody tr th:only-of-type {\n        vertical-align: middle;\n    }\n\n    .dataframe tbody tr th {\n        vertical-align: top;\n    }\n\n    .dataframe thead th {\n        text-align: right;\n    }\n</style>\n<table border=\"1\" class=\"dataframe\">\n  <thead>\n    <tr style=\"text-align: right;\">\n      <th></th>\n      <th>count(r)</th>\n    </tr>\n  </thead>\n  <tbody>\n    <tr>\n      <th>0</th>\n      <td>5009</td>\n    </tr>\n  </tbody>\n</table>\n</div>"
     },
     "execution_count": 31,
     "metadata": {},
     "output_type": "execute_result"
    }
   ],
   "source": [
    "# load ground truth identity alignments\n",
    "gds.run_cypher(f'''\n",
    "    LOAD CSV WITH HEADERS FROM '{NEO4j_IMPORT_URL}/user_alignments.csv' AS row\n",
    "    MATCH(u1:User {{userId:row.uid1}})\n",
    "    MATCH(u2:User {{userId:row.uid2}})\n",
    "    MERGE (u1)-[r:SAME_AS]->(u2)\n",
    "    RETURN count(r);\n",
    "''')"
   ],
   "metadata": {
    "collapsed": false,
    "pycharm": {
     "name": "#%%\n"
    }
   }
  },
  {
   "cell_type": "code",
   "execution_count": 33,
   "outputs": [
    {
     "data": {
      "text/plain": "   count(r)\n0   2330404",
      "text/html": "<div>\n<style scoped>\n    .dataframe tbody tr th:only-of-type {\n        vertical-align: middle;\n    }\n\n    .dataframe tbody tr th {\n        vertical-align: top;\n    }\n\n    .dataframe thead th {\n        text-align: right;\n    }\n</style>\n<table border=\"1\" class=\"dataframe\">\n  <thead>\n    <tr style=\"text-align: right;\">\n      <th></th>\n      <th>count(r)</th>\n    </tr>\n  </thead>\n  <tbody>\n    <tr>\n      <th>0</th>\n      <td>2330404</td>\n    </tr>\n  </tbody>\n</table>\n</div>"
     },
     "execution_count": 33,
     "metadata": {},
     "output_type": "execute_result"
    }
   ],
   "source": [
    "# load website hierarchy\n",
    "gds.run_cypher(f'''\n",
    "    USING PERIODIC COMMIT 10000\n",
    "    LOAD CSV WITH HEADERS FROM '{NEO4j_IMPORT_URL}/web_hierarchy.csv' AS row\n",
    "    MATCH(w1:Website {{url: row.url1}})\n",
    "    MATCH(w2:Website {{url: row.url2}})\n",
    "    MERGE (w2)-[r:CHILD_OF]->(w1)\n",
    "    ON CREATE\n",
    "        SET r.weight = toInteger(w1.urlPathDepth)\n",
    "    RETURN count(r);\n",
    "''')"
   ],
   "metadata": {
    "collapsed": false,
    "pycharm": {
     "name": "#%%\n"
    }
   }
  },
  {
   "cell_type": "code",
   "execution_count": 34,
   "outputs": [
    {
     "data": {
      "text/plain": "   count(r)\n0   2841391",
      "text/html": "<div>\n<style scoped>\n    .dataframe tbody tr th:only-of-type {\n        vertical-align: middle;\n    }\n\n    .dataframe tbody tr th {\n        vertical-align: top;\n    }\n\n    .dataframe thead th {\n        text-align: right;\n    }\n</style>\n<table border=\"1\" class=\"dataframe\">\n  <thead>\n    <tr style=\"text-align: right;\">\n      <th></th>\n      <th>count(r)</th>\n    </tr>\n  </thead>\n  <tbody>\n    <tr>\n      <th>0</th>\n      <td>2841391</td>\n    </tr>\n  </tbody>\n</table>\n</div>"
     },
     "execution_count": 34,
     "metadata": {},
     "output_type": "execute_result"
    }
   ],
   "source": [
    "# load visits\n",
    "gds.run_cypher(f'''\n",
    "    USING PERIODIC COMMIT 10000\n",
    "    LOAD CSV WITH HEADERS FROM '{NEO4j_IMPORT_URL}/user_website_visits.csv' AS row\n",
    "    MATCH(u:User {{userId:row.uid}})\n",
    "    MATCH(w:Website {{url: row.url}})\n",
    "    WITH u, w, row, toInteger(row.number_of_visits) as num_visits\n",
    "    MERGE (u)-[r:VISITED]->(w)\n",
    "    ON CREATE\n",
    "      SET r.eventIds = split(replace(replace(row.fid,'{{',''),'}}',''),', ')\n",
    "      SET r.timeStamps = reduce(dateTimes = [], e in split(replace(replace(row.ts,'[',''),']',''),', ') |\n",
    "        dateTimes + datetime({{epochMillis:toInteger(e)}}))\n",
    "      SET r.numberOfVisits = num_visits\n",
    "      SET r.weight = num_visits * w.urlPathDepth\n",
    "    RETURN count(r);\n",
    "''')"
   ],
   "metadata": {
    "collapsed": false,
    "pycharm": {
     "name": "#%%\n"
    }
   }
  },
  {
   "cell_type": "code",
   "execution_count": null,
   "outputs": [],
   "source": [],
   "metadata": {
    "collapsed": false,
    "pycharm": {
     "name": "#%%\n"
    }
   }
  }
 ],
 "metadata": {
  "kernelspec": {
   "display_name": "Python 3",
   "language": "python",
   "name": "python3"
  },
  "language_info": {
   "codemirror_mode": {
    "name": "ipython",
    "version": 2
   },
   "file_extension": ".py",
   "mimetype": "text/x-python",
   "name": "python",
   "nbconvert_exporter": "python",
   "pygments_lexer": "ipython2",
   "version": "2.7.6"
  }
 },
 "nbformat": 4,
 "nbformat_minor": 0
}